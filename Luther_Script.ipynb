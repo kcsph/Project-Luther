{
 "cells": [
  {
   "cell_type": "markdown",
   "metadata": {},
   "source": [
    "# 1.0 Getting movie links for scraping"
   ]
  },
  {
   "cell_type": "code",
   "execution_count": 413,
   "metadata": {
    "collapsed": false
   },
   "outputs": [],
   "source": [
    "# Get Soup\n",
    "import requests\n",
    "from bs4 import BeautifulSoup\n",
    "import re\n",
    "import dateutil.parser\n",
    "\n",
    "##Page list \n",
    "pagelist2015 = ['http://www.boxofficemojo.com/yearly/chart/?page=1&view=releasedate&view2=domestic&yr=2015&p=.htm','http://www.boxofficemojo.com/yearly/chart/?page=2&view=releasedate&view2=domestic&yr=2015&p=.htm','http://www.boxofficemojo.com/yearly/chart/?page=3&view=releasedate&view2=domestic&yr=2015&p=.htm','http://www.boxofficemojo.com/yearly/chart/?page=4&view=releasedate&view2=domestic&yr=2015&p=.htm','http://www.boxofficemojo.com/yearly/chart/?page=5&view=releasedate&view2=domestic&yr=2015&p=.htm','http://www.boxofficemojo.com/yearly/chart/?page=6&view=releasedate&view2=domestic&yr=2015&p=.htm','http://www.boxofficemojo.com/yearly/chart/?page=7&view=releasedate&view2=domestic&yr=2015&p=.htm']\n",
    "pagelist2014 = ['http://www.boxofficemojo.com/yearly/chart/?yr=2014&adjust_yr=2015&p=.htm','http://www.boxofficemojo.com/yearly/chart/?page=2&view=releasedate&view2=domestic&yr=2014&adjust_mo=&adjust_yr=2015&p=.htm','http://www.boxofficemojo.com/yearly/chart/?page=3&view=releasedate&view2=domestic&yr=2014&adjust_mo=&adjust_yr=2015&p=.htm','http://www.boxofficemojo.com/yearly/chart/?page=4&view=releasedate&view2=domestic&yr=2014&adjust_mo=&adjust_yr=2015&p=.htm','http://www.boxofficemojo.com/yearly/chart/?page=5&view=releasedate&view2=domestic&yr=2014&adjust_mo=&adjust_yr=2015&p=.htm','http://www.boxofficemojo.com/yearly/chart/?page=6&view=releasedate&view2=domestic&yr=2014&adjust_mo=&adjust_yr=2015&p=.htm','http://www.boxofficemojo.com/yearly/chart/?page=7&view=releasedate&view2=domestic&yr=2014&adjust_mo=&adjust_yr=2015&p=.htm']\n",
    "pagelist2013 = ['http://www.boxofficemojo.com/yearly/chart/?yr=2013&adjust_yr=2015&p=.htm','http://www.boxofficemojo.com/yearly/chart/?page=2&view=releasedate&view2=domestic&yr=2013&adjust_mo=&adjust_yr=2015&p=.htm','http://www.boxofficemojo.com/yearly/chart/?page=3&view=releasedate&view2=domestic&yr=2013&adjust_mo=&adjust_yr=2015&p=.htm','http://www.boxofficemojo.com/yearly/chart/?page=4&view=releasedate&view2=domestic&yr=2013&adjust_mo=&adjust_yr=2015&p=.htm','http://www.boxofficemojo.com/yearly/chart/?page=5&view=releasedate&view2=domestic&yr=2013&adjust_mo=&adjust_yr=2015&p=.htm','http://www.boxofficemojo.com/yearly/chart/?page=6&view=releasedate&view2=domestic&yr=2013&adjust_mo=&adjust_yr=2015&p=.htm','http://www.boxofficemojo.com/yearly/chart/?page=7&view=releasedate&view2=domestic&yr=2013&adjust_mo=&adjust_yr=2015&p=.htm']\n",
    "pagelist2012 = ['http://www.boxofficemojo.com/yearly/chart/?yr=2012&adjust_yr=2015&p=.htm','http://www.boxofficemojo.com/yearly/chart/?page=2&view=releasedate&view2=domestic&yr=2012&adjust_mo=&adjust_yr=2015&p=.htm','http://www.boxofficemojo.com/yearly/chart/?page=3&view=releasedate&view2=domestic&yr=2012&adjust_mo=&adjust_yr=2015&p=.htm','http://www.boxofficemojo.com/yearly/chart/?page=4&view=releasedate&view2=domestic&yr=2012&adjust_mo=&adjust_yr=2015&p=.htm','http://www.boxofficemojo.com/yearly/chart/?page=5&view=releasedate&view2=domestic&yr=2012&adjust_mo=&adjust_yr=2015&p=.htm','http://www.boxofficemojo.com/yearly/chart/?page=6&view=releasedate&view2=domestic&yr=2012&adjust_mo=&adjust_yr=2015&p=.htm','http://www.boxofficemojo.com/yearly/chart/?page=7&view=releasedate&view2=domestic&yr=2012&adjust_mo=&adjust_yr=2015&p=.htm']\n",
    "pagelist2011 = ['http://www.boxofficemojo.com/yearly/chart/?yr=2011&adjust_yr=2015&p=.htm','http://www.boxofficemojo.com/yearly/chart/?page=2&view=releasedate&view2=domestic&yr=2011&adjust_mo=&adjust_yr=2015&p=.htm','http://www.boxofficemojo.com/yearly/chart/?page=3&view=releasedate&view2=domestic&yr=2011&adjust_mo=&adjust_yr=2015&p=.htm','http://www.boxofficemojo.com/yearly/chart/?page=4&view=releasedate&view2=domestic&yr=2011&adjust_mo=&adjust_yr=2015&p=.htm','http://www.boxofficemojo.com/yearly/chart/?page=5&view=releasedate&view2=domestic&yr=2011&adjust_mo=&adjust_yr=2015&p=.htm','http://www.boxofficemojo.com/yearly/chart/?page=6&view=releasedate&view2=domestic&yr=2011&adjust_mo=&adjust_yr=2015&p=.htm','http://www.boxofficemojo.com/yearly/chart/?page=7&view=releasedate&view2=domestic&yr=2011&adjust_mo=&adjust_yr=2015&p=.htm']\n",
    "pagelist = pagelist2015 + pagelist2014 + pagelist2013 + pagelist2012 + pagelist2011"
   ]
  },
  {
   "cell_type": "code",
   "execution_count": 414,
   "metadata": {
    "collapsed": false
   },
   "outputs": [
    {
     "name": "stderr",
     "output_type": "stream",
     "text": [
      "C:\\Users\\kennd\\Anaconda3\\lib\\site-packages\\bs4\\__init__.py:166: UserWarning: No parser was explicitly specified, so I'm using the best available HTML parser for this system (\"lxml\"). This usually isn't a problem, but if you run this code on another system, or in a different virtual environment, it may use a different parser and behave differently.\n",
      "\n",
      "To get rid of this warning, change this:\n",
      "\n",
      " BeautifulSoup([your markup])\n",
      "\n",
      "to this:\n",
      "\n",
      " BeautifulSoup([your markup], \"lxml\")\n",
      "\n",
      "  markup_type=markup_type))\n"
     ]
    }
   ],
   "source": [
    "##Find movie links based on page list\n",
    "movielist = []\n",
    "for page in pagelist:\n",
    "    url = page\n",
    "    response = requests.get(url,headers={'Microsoft Edge':'Metis data science student scraping project'})\n",
    "    soup = BeautifulSoup(response.text)\n",
    "    for x in soup.find_all('a'):\n",
    "        try:\n",
    "            if \"/movies/?id\" in x['href']:\n",
    "                movielist.append(x['href'])\n",
    "            else:\n",
    "                continue\n",
    "        except:\n",
    "            continue\n",
    "            \n",
    "##Translate movie links into full html addresses\n",
    "htmllist = []\n",
    "for x in movielist:\n",
    "    htmllist.append('http://www.boxofficemojo.com'+x+'&adjust_yr=2015&p=.htm')"
   ]
  },
  {
   "cell_type": "code",
   "execution_count": 416,
   "metadata": {
    "collapsed": false
   },
   "outputs": [
    {
     "data": {
      "text/plain": [
       "3387"
      ]
     },
     "execution_count": 416,
     "metadata": {},
     "output_type": "execute_result"
    }
   ],
   "source": [
    "len(htmllist)"
   ]
  },
  {
   "cell_type": "markdown",
   "metadata": {},
   "source": [
    "# 2.0 Scraping Script"
   ]
  },
  {
   "cell_type": "markdown",
   "metadata": {
    "collapsed": true
   },
   "source": [
    "## Import BeautifulSoup and scraping modules\n",
    "from bs4 import BeautifulSoup\n",
    "import requests\n",
    "import re\n",
    "url = 'http://www.boxofficemojo.com/movies/?id=fruitvale.htm'\n",
    "response = requests.get(url,headers={'Microsoft Edge':'Metis data science student scraping project'})\n",
    "soup = BeautifulSoup(response.text)"
   ]
  },
  {
   "cell_type": "markdown",
   "metadata": {},
   "source": [
    "## 2.1 Subfunctions to extract data from movie webpages"
   ]
  },
  {
   "cell_type": "code",
   "execution_count": 417,
   "metadata": {
    "collapsed": false
   },
   "outputs": [],
   "source": [
    "##Get movie title\n",
    "def get_movie_title(soup):\n",
    "    try:\n",
    "        return soup.find('title').text.split('-')[0].split('(')[0].strip()\n",
    "    except:\n",
    "        return None\n",
    "\n",
    "##Get movie domestic box office gross\n",
    "def get_movie_domestic_gross(soup):\n",
    "    try:\n",
    "        return float(soup.find_all('b')[2].text.replace('$','').replace(',',''))/(10**6)\n",
    "    except:\n",
    "        return None\n",
    "    \n",
    "##Get movie distributor\n",
    "def get_movie_distributor(soup):\n",
    "    try:\n",
    "        return soup.find(text=re.compile('Distributor')).findNextSibling().text\n",
    "    except:\n",
    "        return None\n",
    "    \n",
    "##Get movie release date\n",
    "def get_movie_release_date(soup):\n",
    "    try:\n",
    "        datestring = soup.find(text=re.compile('Release Date')).findNextSibling().text\n",
    "        date = dateutil.parser.parse(datestring)\n",
    "        return date\n",
    "    except:\n",
    "        return None\n",
    "        \n",
    "##Get movie genre\n",
    "def get_movie_genre(soup):\n",
    "    try:\n",
    "        return soup.find(text=re.compile('Genre:')).findNextSibling().text.split()[0]\n",
    "    except:\n",
    "        return None\n",
    "    \n",
    "##Get movie runtime\n",
    "def get_movie_runtime(soup):\n",
    "    try:\n",
    "        runtime_string= soup.find(text=re.compile('Runtime')).findNextSibling().text.split()\n",
    "        return float(runtime_string[0])*60 + float(runtime_string[2])\n",
    "    except:\n",
    "        return None\n",
    "\n",
    "##Get movie MPAA rating\n",
    "def get_movie_mpaa_rating(soup):\n",
    "    try:\n",
    "        return soup.find(text=re.compile('MPAA')).findNextSibling().text\n",
    "    except:\n",
    "        return None\n",
    "\n",
    "##Get movie production budget\n",
    "def get_movie_prod_budget(soup):\n",
    "    try:\n",
    "        prod_budget_string = soup.find(text=re.compile('Production Budget')).findNextSibling().text.replace('$','').replace(',','')\n",
    "        if 'million' in prod_budget_string:\n",
    "            return float(prod_budget_string.split()[0])\n",
    "        else:\n",
    "            return None\n",
    "    except:\n",
    "        return None\n",
    "\n",
    "##Get movie opening weekend gross\n",
    "def get_movie_weekend_gross(soup):\n",
    "    if soup.find(text=re.compile('Wide\\xa0Opening')):\n",
    "        try:\n",
    "            return float(soup.find(text=re.compile('Wide\\xa0Opening')).findNext().text.replace('$','').replace(',',''))/(10**6)\n",
    "        except:\n",
    "            return None\n",
    "    elif soup.find(text=re.compile('Opening\\xa0Weekend')):\n",
    "        try:\n",
    "            return float(soup.find(text=re.compile('Opening\\xa0Weekend')).findNext().text.replace('$','').replace(',',''))/(10**6)\n",
    "        except:\n",
    "            return None\n",
    "    else:\n",
    "        return None\n",
    "\n",
    "##Get movie in release days\n",
    "def get_movie_release_days(soup):\n",
    "    try:\n",
    "        return abs(float(soup.find(text=re.compile(\"In Release\")).findNext().text.strip().split()[0]))\n",
    "    except:\n",
    "        return None"
   ]
  },
  {
   "cell_type": "markdown",
   "metadata": {},
   "source": [
    "## 2.2  Combine subfunctions into one function"
   ]
  },
  {
   "cell_type": "code",
   "execution_count": 418,
   "metadata": {
    "collapsed": true
   },
   "outputs": [],
   "source": [
    "def get_movie_data(soup):\n",
    "    datalist = []\n",
    "    datalist.append(get_movie_title(soup))\n",
    "    datalist.append(get_movie_domestic_gross(soup))\n",
    "    datalist.append(get_movie_distributor(soup))\n",
    "    datalist.append(get_movie_release_date(soup))\n",
    "    datalist.append(get_movie_genre(soup))\n",
    "    datalist.append(get_movie_runtime(soup))\n",
    "    datalist.append(get_movie_mpaa_rating(soup))\n",
    "    datalist.append(get_movie_prod_budget(soup))\n",
    "    datalist.append(get_movie_weekend_gross(soup))\n",
    "    datalist.append(get_movie_release_days(soup))\n",
    "    df.append(datalist)"
   ]
  },
  {
   "cell_type": "markdown",
   "metadata": {},
   "source": [
    "## 2.3 Loop through links and combine into one data frame"
   ]
  },
  {
   "cell_type": "code",
   "execution_count": 419,
   "metadata": {
    "collapsed": false,
    "scrolled": true
   },
   "outputs": [
    {
     "name": "stderr",
     "output_type": "stream",
     "text": [
      "C:\\Users\\kennd\\Anaconda3\\lib\\site-packages\\bs4\\__init__.py:166: UserWarning: No parser was explicitly specified, so I'm using the best available HTML parser for this system (\"lxml\"). This usually isn't a problem, but if you run this code on another system, or in a different virtual environment, it may use a different parser and behave differently.\n",
      "\n",
      "To get rid of this warning, change this:\n",
      "\n",
      " BeautifulSoup([your markup])\n",
      "\n",
      "to this:\n",
      "\n",
      " BeautifulSoup([your markup], \"lxml\")\n",
      "\n",
      "  markup_type=markup_type))\n"
     ]
    }
   ],
   "source": [
    "##Set df as master list\n",
    "df = []\n",
    "for link in htmllist:\n",
    "    response = requests.get(link,headers={'Microsoft Edge':'Metis data science student scraping project'})\n",
    "    soup = BeautifulSoup(response.text)\n",
    "    get_movie_data(soup)"
   ]
  },
  {
   "cell_type": "code",
   "execution_count": 424,
   "metadata": {
    "collapsed": false
   },
   "outputs": [
    {
     "data": {
      "text/plain": [
       "(3387, 10)"
      ]
     },
     "execution_count": 424,
     "metadata": {},
     "output_type": "execute_result"
    }
   ],
   "source": [
    "import pandas as pd\n",
    "DF = pd.DataFrame(df, columns = ['title','dom_gross_adj_2015','distributor','release_date','genre','runtime','rating','budget','weekend_gross','in_release_days'])\n",
    "DF.drop_duplicates()\n",
    "DF.shape"
   ]
  },
  {
   "cell_type": "markdown",
   "metadata": {},
   "source": [
    "### Checkpoint 1: Pickle"
   ]
  },
  {
   "cell_type": "code",
   "execution_count": 425,
   "metadata": {
    "collapsed": false
   },
   "outputs": [],
   "source": [
    "##Pickle\n",
    "import pickle\n",
    "with open('my_data.pkl', 'wb') as picklefile:\n",
    "    pickle.dump(DF, picklefile)"
   ]
  },
  {
   "cell_type": "code",
   "execution_count": 426,
   "metadata": {
    "collapsed": false
   },
   "outputs": [],
   "source": [
    "##Take out of jar\n",
    "import pickle\n",
    "import pandas as pd\n",
    "import numpy as np\n",
    "import math\n",
    "import matplotlib\n",
    "import datetime\n",
    "%matplotlib inline\n",
    "with open(\"my_data.pkl\", 'rb') as picklefile: \n",
    "    DF = pickle.load(picklefile)"
   ]
  },
  {
   "cell_type": "code",
   "execution_count": 473,
   "metadata": {
    "collapsed": false
   },
   "outputs": [],
   "source": [
    "DF2 = DF[(DF.dom_gross_adj_2015>1) & (DF.budget>1)].reset_index(drop=True)"
   ]
  },
  {
   "cell_type": "code",
   "execution_count": 474,
   "metadata": {
    "collapsed": false
   },
   "outputs": [],
   "source": [
    "def get_month(x):\n",
    "    return x.month\n",
    "\n",
    "def get_weekday(x):\n",
    "    return x.isoweekday()\n",
    "\n",
    "def get_monthday(x):\n",
    "    return x.day\n",
    "\n",
    "def get_year(x):\n",
    "    return x.year\n",
    "\n",
    "DF2[\"release_month\"] = DF2[\"release_date\"].apply(get_month)\n",
    "DF2[\"release_weekday\"] = DF2[\"release_date\"].apply(get_weekday)\n",
    "DF2[\"release_monthday\"] = DF2[\"release_date\"].apply(get_monthday)\n",
    "DF2[\"release_year\"] = DF2[\"release_date\"].apply(get_year)"
   ]
  },
  {
   "cell_type": "code",
   "execution_count": 475,
   "metadata": {
    "collapsed": false
   },
   "outputs": [],
   "source": [
    "##Create genre density count for each movie\n",
    "##Very slow but no choice but to loop through the data frame\n",
    "week_count_list = []\n",
    "for current_row in range(DF2.shape[0]):\n",
    "    week_count = 0.0\n",
    "    current_DF = DF2.iloc[current_row,:]\n",
    "    for compare_row in range(0,DF2.shape[0]):\n",
    "        compare_DF = DF2.iloc[compare_row,:]\n",
    "        try: \n",
    "            time_delta = abs((current_DF[3]-compare_DF[3]).days)\n",
    "        except:\n",
    "            time_delta = 0\n",
    "        if time_delta <= 7 and (current_DF[4] == compare_DF[4]):\n",
    "            week_count +=1\n",
    "    week_count_list.append(week_count)\n",
    "week_count_list = pd.Series(week_count_list)"
   ]
  },
  {
   "cell_type": "code",
   "execution_count": 476,
   "metadata": {
    "collapsed": false
   },
   "outputs": [],
   "source": [
    "##Create genre density count for each movie\n",
    "##Very slow but no choice but to loop through the data frame\n",
    "month_count_list = []\n",
    "for current_row in range(DF2.shape[0]):\n",
    "    month_count = 0.0\n",
    "    current_DF = DF2.iloc[current_row,:]\n",
    "    for compare_row in range(0,DF2.shape[0]):\n",
    "        compare_DF = DF2.iloc[compare_row,:]\n",
    "        try: \n",
    "            time_delta = abs((current_DF[3]-compare_DF[3]).days)\n",
    "        except:\n",
    "            time_delta = 0\n",
    "        if time_delta <= 30 and (current_DF[4] == compare_DF[4]):\n",
    "            month_count +=1\n",
    "    month_count_list.append(month_count)\n",
    "month_count_list = pd.Series(month_count_list)"
   ]
  },
  {
   "cell_type": "code",
   "execution_count": 477,
   "metadata": {
    "collapsed": true
   },
   "outputs": [],
   "source": [
    "##Create high budget density count for each movie\n",
    "##Very slow but no choice but to loop through the data frame\n",
    "budget_week_count_list = []\n",
    "for current_row in range(DF2.shape[0]):\n",
    "    week_count = 0.0\n",
    "    current_DF = DF2.iloc[current_row,:]\n",
    "    for compare_row in range(0,DF2.shape[0]):\n",
    "        compare_DF = DF2.iloc[compare_row,:]\n",
    "        try: \n",
    "            time_delta = abs((current_DF[3]-compare_DF[3]).days)\n",
    "        except:\n",
    "            time_delta = 0\n",
    "        if time_delta <= 7 and compare_DF.budget >= 100:\n",
    "            week_count +=1\n",
    "    budget_week_count_list.append(week_count)\n",
    "budget_week_count_list = pd.Series(budget_week_count_list)"
   ]
  },
  {
   "cell_type": "code",
   "execution_count": 478,
   "metadata": {
    "collapsed": false
   },
   "outputs": [],
   "source": [
    "##Create high budget density count for each movie\n",
    "##Very slow but no choice but to loop through the data frame\n",
    "budget_month_count_list = []\n",
    "for current_row in range(DF2.shape[0]):\n",
    "    month_count = 0.0\n",
    "    current_DF = DF2.iloc[current_row,:]\n",
    "    for compare_row in range(0,DF2.shape[0]):\n",
    "        compare_DF = DF2.iloc[compare_row,:]\n",
    "        try: \n",
    "            time_delta = abs((current_DF[3]-compare_DF[3]).days)\n",
    "        except:\n",
    "            time_delta = 0\n",
    "        if time_delta <= 30 and compare_DF.budget >= 100:\n",
    "            month_count +=1\n",
    "    budget_month_count_list.append(month_count)\n",
    "budget_month_count_list = pd.Series(budget_month_count_list)"
   ]
  },
  {
   "cell_type": "code",
   "execution_count": 479,
   "metadata": {
    "collapsed": false
   },
   "outputs": [],
   "source": [
    "DF2[\"week_genre_density_count\"] = week_count_list\n",
    "DF2[\"month_genre_density_count\"] = month_count_list\n",
    "DF2[\"week_budget_density_count\"] = budget_week_count_list\n",
    "DF2[\"month_budget_density_count\"] = budget_month_count_list\n",
    "DF2 = DF2[(DF2[\"release_year\"] >= 2011) & (DF2[\"release_year\"] < 2016)]"
   ]
  },
  {
   "cell_type": "code",
   "execution_count": 480,
   "metadata": {
    "collapsed": true
   },
   "outputs": [],
   "source": [
    "DF2.release_month = DF2.release_month.astype('category')\n",
    "DF2.release_weekday = DF2.release_weekday.astype('category')\n",
    "DF2.release_monthday = DF2.release_monthday.astype('category')\n",
    "DF2.release_year = DF2.release_year.astype('category')\n",
    "DF2.distributor = DF2.distributor.astype('category')\n",
    "DF2.genre = DF2.genre.astype('category')\n",
    "DF2.rating = DF2.rating.astype('category')"
   ]
  },
  {
   "cell_type": "markdown",
   "metadata": {},
   "source": [
    "### Checkpoint 2: Pickle"
   ]
  },
  {
   "cell_type": "code",
   "execution_count": 481,
   "metadata": {
    "collapsed": true
   },
   "outputs": [],
   "source": [
    "##Pickle checkpoint\n",
    "import pickle\n",
    "with open('my_data2.pkl', 'wb') as picklefile:\n",
    "    pickle.dump(DF2, picklefile)"
   ]
  },
  {
   "cell_type": "code",
   "execution_count": 2,
   "metadata": {
    "collapsed": false
   },
   "outputs": [],
   "source": [
    "import pickle\n",
    "import pandas as pd\n",
    "import numpy as np\n",
    "import matplotlib\n",
    "%matplotlib inline\n",
    "with open(\"my_data2.pkl\", 'rb') as picklefile: \n",
    "    DF2 = pickle.load(picklefile)"
   ]
  },
  {
   "cell_type": "markdown",
   "metadata": {},
   "source": [
    "# 3.0 Exploratory Analysis"
   ]
  },
  {
   "cell_type": "markdown",
   "metadata": {},
   "source": [
    "# 4.0 Regression model"
   ]
  },
  {
   "cell_type": "code",
   "execution_count": 3,
   "metadata": {
    "collapsed": true
   },
   "outputs": [],
   "source": [
    "import statsmodels.formula.api as smf"
   ]
  },
  {
   "cell_type": "code",
   "execution_count": 4,
   "metadata": {
    "collapsed": true
   },
   "outputs": [],
   "source": [
    "DF3 = DF2.copy()"
   ]
  },
  {
   "cell_type": "code",
   "execution_count": 10,
   "metadata": {
    "collapsed": false
   },
   "outputs": [
    {
     "ename": "NameError",
     "evalue": "name 'savefig' is not defined",
     "output_type": "error",
     "traceback": [
      "\u001b[1;31m---------------------------------------------------------------------------\u001b[0m",
      "\u001b[1;31mNameError\u001b[0m                                 Traceback (most recent call last)",
      "\u001b[1;32m<ipython-input-10-3e998bc45383>\u001b[0m in \u001b[0;36m<module>\u001b[1;34m()\u001b[0m\n\u001b[0;32m      2\u001b[0m \u001b[0mfit1\u001b[0m \u001b[1;33m=\u001b[0m \u001b[0mlm1\u001b[0m\u001b[1;33m.\u001b[0m\u001b[0mfit\u001b[0m\u001b[1;33m(\u001b[0m\u001b[1;33m)\u001b[0m\u001b[1;33m\u001b[0m\u001b[0m\n\u001b[0;32m      3\u001b[0m \u001b[0mfit1\u001b[0m\u001b[1;33m.\u001b[0m\u001b[0msummary\u001b[0m\u001b[1;33m(\u001b[0m\u001b[1;33m)\u001b[0m\u001b[1;33m\u001b[0m\u001b[0m\n\u001b[1;32m----> 4\u001b[1;33m \u001b[0msavefig\u001b[0m\u001b[1;33m(\u001b[0m\u001b[1;34m'output.pdf'\u001b[0m\u001b[1;33m)\u001b[0m\u001b[1;33m\u001b[0m\u001b[0m\n\u001b[0m",
      "\u001b[1;31mNameError\u001b[0m: name 'savefig' is not defined"
     ]
    }
   ],
   "source": [
    "lm1 = smf.ols('dom_gross_adj_2015 ~ budget + genre + distributor + in_release_days + week_genre_density_count + month_genre_density_count + week_budget_density_count + month_budget_density_count',data=DF3)\n",
    "fit1 = lm1.fit()\n",
    "fit1.summary()\n",
    "savefig('output.pdf')"
   ]
  },
  {
   "cell_type": "code",
   "execution_count": 9,
   "metadata": {
    "collapsed": false,
    "scrolled": false
   },
   "outputs": [
    {
     "data": {
      "text/html": [
       "<table class=\"simpletable\">\n",
       "<caption>OLS Regression Results</caption>\n",
       "<tr>\n",
       "  <th>Dep. Variable:</th>      <td>weekend_gross</td>  <th>  R-squared:         </th> <td>   0.635</td>\n",
       "</tr>\n",
       "<tr>\n",
       "  <th>Model:</th>                   <td>OLS</td>       <th>  Adj. R-squared:    </th> <td>   0.582</td>\n",
       "</tr>\n",
       "<tr>\n",
       "  <th>Method:</th>             <td>Least Squares</td>  <th>  F-statistic:       </th> <td>   12.03</td>\n",
       "</tr>\n",
       "<tr>\n",
       "  <th>Date:</th>             <td>Sun, 24 Apr 2016</td> <th>  Prob (F-statistic):</th> <td>5.42e-63</td>\n",
       "</tr>\n",
       "<tr>\n",
       "  <th>Time:</th>                 <td>12:17:43</td>     <th>  Log-Likelihood:    </th> <td> -2165.1</td>\n",
       "</tr>\n",
       "<tr>\n",
       "  <th>No. Observations:</th>      <td>   500</td>      <th>  AIC:               </th> <td>   4458.</td>\n",
       "</tr>\n",
       "<tr>\n",
       "  <th>Df Residuals:</th>          <td>   436</td>      <th>  BIC:               </th> <td>   4728.</td>\n",
       "</tr>\n",
       "<tr>\n",
       "  <th>Df Model:</th>              <td>    63</td>      <th>                     </th>     <td> </td>   \n",
       "</tr>\n",
       "<tr>\n",
       "  <th>Covariance Type:</th>      <td>nonrobust</td>    <th>                     </th>     <td> </td>   \n",
       "</tr>\n",
       "</table>\n",
       "<table class=\"simpletable\">\n",
       "<tr>\n",
       "                     <td></td>                       <th>coef</th>     <th>std err</th>      <th>t</th>      <th>P>|t|</th> <th>[95.0% Conf. Int.]</th> \n",
       "</tr>\n",
       "<tr>\n",
       "  <th>Intercept</th>                              <td>  -27.5987</td> <td>   20.938</td> <td>   -1.318</td> <td> 0.188</td> <td>  -68.750    13.553</td>\n",
       "</tr>\n",
       "<tr>\n",
       "  <th>genre[T.Adventure]</th>                     <td>  -34.9940</td> <td>    8.942</td> <td>   -3.913</td> <td> 0.000</td> <td>  -52.569   -17.419</td>\n",
       "</tr>\n",
       "<tr>\n",
       "  <th>genre[T.Animation]</th>                     <td>  -26.2062</td> <td>    4.597</td> <td>   -5.700</td> <td> 0.000</td> <td>  -35.242   -17.171</td>\n",
       "</tr>\n",
       "<tr>\n",
       "  <th>genre[T.Comedy]</th>                        <td>   -2.2851</td> <td>    3.352</td> <td>   -0.682</td> <td> 0.496</td> <td>   -8.874     4.303</td>\n",
       "</tr>\n",
       "<tr>\n",
       "  <th>genre[T.Concert]</th>                       <td>    5.4643</td> <td>   14.829</td> <td>    0.368</td> <td> 0.713</td> <td>  -23.681    34.609</td>\n",
       "</tr>\n",
       "<tr>\n",
       "  <th>genre[T.Crime]</th>                         <td>  -15.5775</td> <td>    7.102</td> <td>   -2.193</td> <td> 0.029</td> <td>  -29.537    -1.618</td>\n",
       "</tr>\n",
       "<tr>\n",
       "  <th>genre[T.Documentary]</th>                   <td>   -4.2775</td> <td>   12.291</td> <td>   -0.348</td> <td> 0.728</td> <td>  -28.435    19.880</td>\n",
       "</tr>\n",
       "<tr>\n",
       "  <th>genre[T.Drama]</th>                         <td>  -12.6019</td> <td>    4.153</td> <td>   -3.035</td> <td> 0.003</td> <td>  -20.764    -4.440</td>\n",
       "</tr>\n",
       "<tr>\n",
       "  <th>genre[T.Family]</th>                        <td>  -30.7411</td> <td>    6.732</td> <td>   -4.567</td> <td> 0.000</td> <td>  -43.972   -17.511</td>\n",
       "</tr>\n",
       "<tr>\n",
       "  <th>genre[T.Fantasy]</th>                       <td>  -28.9395</td> <td>    6.586</td> <td>   -4.394</td> <td> 0.000</td> <td>  -41.884   -15.994</td>\n",
       "</tr>\n",
       "<tr>\n",
       "  <th>genre[T.Foreign]</th>                       <td>  -17.7383</td> <td>   13.025</td> <td>   -1.362</td> <td> 0.174</td> <td>  -43.337     7.860</td>\n",
       "</tr>\n",
       "<tr>\n",
       "  <th>genre[T.Historical]</th>                    <td>  -20.2450</td> <td>   16.843</td> <td>   -1.202</td> <td> 0.230</td> <td>  -53.349    12.859</td>\n",
       "</tr>\n",
       "<tr>\n",
       "  <th>genre[T.Horror]</th>                        <td>   -1.6847</td> <td>    4.657</td> <td>   -0.362</td> <td> 0.718</td> <td>  -10.838     7.469</td>\n",
       "</tr>\n",
       "<tr>\n",
       "  <th>genre[T.Music]</th>                         <td>   -3.8098</td> <td>   14.842</td> <td>   -0.257</td> <td> 0.798</td> <td>  -32.980    25.361</td>\n",
       "</tr>\n",
       "<tr>\n",
       "  <th>genre[T.Musical]</th>                       <td>  -15.6750</td> <td>    7.987</td> <td>   -1.963</td> <td> 0.050</td> <td>  -31.373     0.023</td>\n",
       "</tr>\n",
       "<tr>\n",
       "  <th>genre[T.Period]</th>                        <td>  -18.4432</td> <td>   10.749</td> <td>   -1.716</td> <td> 0.087</td> <td>  -39.570     2.684</td>\n",
       "</tr>\n",
       "<tr>\n",
       "  <th>genre[T.Romance]</th>                       <td>   19.0683</td> <td>    7.556</td> <td>    2.524</td> <td> 0.012</td> <td>    4.218    33.918</td>\n",
       "</tr>\n",
       "<tr>\n",
       "  <th>genre[T.Romantic]</th>                      <td>  -16.0784</td> <td>    7.528</td> <td>   -2.136</td> <td> 0.033</td> <td>  -30.873    -1.284</td>\n",
       "</tr>\n",
       "<tr>\n",
       "  <th>genre[T.Sci-Fi]</th>                        <td>  -14.2201</td> <td>    3.978</td> <td>   -3.574</td> <td> 0.000</td> <td>  -22.039    -6.401</td>\n",
       "</tr>\n",
       "<tr>\n",
       "  <th>genre[T.Sports]</th>                        <td>  -18.3245</td> <td>    8.954</td> <td>   -2.046</td> <td> 0.041</td> <td>  -35.924    -0.725</td>\n",
       "</tr>\n",
       "<tr>\n",
       "  <th>genre[T.Thriller]</th>                      <td>   -6.9293</td> <td>    4.764</td> <td>   -1.454</td> <td> 0.147</td> <td>  -16.294     2.435</td>\n",
       "</tr>\n",
       "<tr>\n",
       "  <th>genre[T.War]</th>                           <td>  -17.2917</td> <td>   12.011</td> <td>   -1.440</td> <td> 0.151</td> <td>  -40.897     6.314</td>\n",
       "</tr>\n",
       "<tr>\n",
       "  <th>genre[T.Western]</th>                       <td>  -48.7126</td> <td>   14.795</td> <td>   -3.292</td> <td> 0.001</td> <td>  -77.791   -19.634</td>\n",
       "</tr>\n",
       "<tr>\n",
       "  <th>distributor[T.Anchor Bay Films]</th>        <td>   23.2146</td> <td>   28.513</td> <td>    0.814</td> <td> 0.416</td> <td>  -32.824    79.254</td>\n",
       "</tr>\n",
       "<tr>\n",
       "  <th>distributor[T.Bleecker Street]</th>         <td>-1.737e-13</td> <td>  1.9e-13</td> <td>   -0.916</td> <td> 0.360</td> <td>-5.46e-13  1.99e-13</td>\n",
       "</tr>\n",
       "<tr>\n",
       "  <th>distributor[T.Broad Green Pictures]</th>    <td>-7.617e-16</td> <td> 2.28e-14</td> <td>   -0.033</td> <td> 0.973</td> <td>-4.55e-14   4.4e-14</td>\n",
       "</tr>\n",
       "<tr>\n",
       "  <th>distributor[T.Buena Vista]</th>             <td>   27.7927</td> <td>   20.549</td> <td>    1.352</td> <td> 0.177</td> <td>  -12.595    68.181</td>\n",
       "</tr>\n",
       "<tr>\n",
       "  <th>distributor[T.CBS Films]</th>               <td>   27.0147</td> <td>   21.564</td> <td>    1.253</td> <td> 0.211</td> <td>  -15.368    69.398</td>\n",
       "</tr>\n",
       "<tr>\n",
       "  <th>distributor[T.Clarius Entertainment]</th>   <td>-3.212e-15</td> <td> 2.72e-14</td> <td>   -0.118</td> <td> 0.906</td> <td>-5.67e-14  5.03e-14</td>\n",
       "</tr>\n",
       "<tr>\n",
       "  <th>distributor[T.FilmDistrict]</th>            <td>   19.0080</td> <td>   21.232</td> <td>    0.895</td> <td> 0.371</td> <td>  -22.721    60.737</td>\n",
       "</tr>\n",
       "<tr>\n",
       "  <th>distributor[T.Focus Features]</th>          <td>   22.4713</td> <td>   20.933</td> <td>    1.073</td> <td> 0.284</td> <td>  -18.671    63.614</td>\n",
       "</tr>\n",
       "<tr>\n",
       "  <th>distributor[T.Fox]</th>                     <td>   12.5703</td> <td>   20.323</td> <td>    0.619</td> <td> 0.537</td> <td>  -27.374    52.514</td>\n",
       "</tr>\n",
       "<tr>\n",
       "  <th>distributor[T.Fox Searchlight]</th>         <td>   16.3732</td> <td>   22.332</td> <td>    0.733</td> <td> 0.464</td> <td>  -27.519    60.266</td>\n",
       "</tr>\n",
       "<tr>\n",
       "  <th>distributor[T.Freestyle Releasing]</th>     <td>   18.5227</td> <td>   24.656</td> <td>    0.751</td> <td> 0.453</td> <td>  -29.936    66.981</td>\n",
       "</tr>\n",
       "<tr>\n",
       "  <th>distributor[T.High Top Releasing]</th>      <td>   30.0498</td> <td>   28.621</td> <td>    1.050</td> <td> 0.294</td> <td>  -26.202    86.302</td>\n",
       "</tr>\n",
       "<tr>\n",
       "  <th>distributor[T.IFC]</th>                     <td>-3.858e-15</td> <td> 1.21e-14</td> <td>   -0.319</td> <td> 0.750</td> <td>-2.76e-14  1.99e-14</td>\n",
       "</tr>\n",
       "<tr>\n",
       "  <th>distributor[T.Kenn Viselman Presents]</th>  <td>   46.6353</td> <td>   29.195</td> <td>    1.597</td> <td> 0.111</td> <td>  -10.744   104.015</td>\n",
       "</tr>\n",
       "<tr>\n",
       "  <th>distributor[T.Lionsgate]</th>               <td>   33.3437</td> <td>   20.684</td> <td>    1.612</td> <td> 0.108</td> <td>   -7.309    73.996</td>\n",
       "</tr>\n",
       "<tr>\n",
       "  <th>distributor[T.Lionsgate/Summit]</th>        <td>   22.3030</td> <td>   20.921</td> <td>    1.066</td> <td> 0.287</td> <td>  -18.815    63.421</td>\n",
       "</tr>\n",
       "<tr>\n",
       "  <th>distributor[T.Newmarket]</th>               <td>   28.1277</td> <td>   28.584</td> <td>    0.984</td> <td> 0.326</td> <td>  -28.052    84.308</td>\n",
       "</tr>\n",
       "<tr>\n",
       "  <th>distributor[T.Open Road Films]</th>         <td>   27.4449</td> <td>   20.891</td> <td>    1.314</td> <td> 0.190</td> <td>  -13.615    68.505</td>\n",
       "</tr>\n",
       "<tr>\n",
       "  <th>distributor[T.Oscilloscope Pictures]</th>   <td>   31.6453</td> <td>   31.600</td> <td>    1.001</td> <td> 0.317</td> <td>  -30.461    93.752</td>\n",
       "</tr>\n",
       "<tr>\n",
       "  <th>distributor[T.Paramount]</th>               <td>   25.6091</td> <td>   20.506</td> <td>    1.249</td> <td> 0.212</td> <td>  -14.695    65.913</td>\n",
       "</tr>\n",
       "<tr>\n",
       "  <th>distributor[T.Paramount (DreamWorks)]</th>  <td>   21.3580</td> <td>   22.014</td> <td>    0.970</td> <td> 0.332</td> <td>  -21.908    64.624</td>\n",
       "</tr>\n",
       "<tr>\n",
       "  <th>distributor[T.Picturehouse (II)]</th>       <td>   40.2826</td> <td>   28.615</td> <td>    1.408</td> <td> 0.160</td> <td>  -15.958    96.524</td>\n",
       "</tr>\n",
       "<tr>\n",
       "  <th>distributor[T.Quaker Media]</th>            <td>   36.6347</td> <td>   29.474</td> <td>    1.243</td> <td> 0.215</td> <td>  -21.295    94.564</td>\n",
       "</tr>\n",
       "<tr>\n",
       "  <th>distributor[T.Relativity]</th>              <td>   15.8611</td> <td>   20.621</td> <td>    0.769</td> <td> 0.442</td> <td>  -24.668    56.391</td>\n",
       "</tr>\n",
       "<tr>\n",
       "  <th>distributor[T.Roadside Attractions]</th>    <td>    1.3885</td> <td>   23.778</td> <td>    0.058</td> <td> 0.953</td> <td>  -45.344    48.121</td>\n",
       "</tr>\n",
       "<tr>\n",
       "  <th>distributor[T.Rocky Mountain Pictures]</th> <td>   32.0471</td> <td>   28.645</td> <td>    1.119</td> <td> 0.264</td> <td>  -24.252    88.346</td>\n",
       "</tr>\n",
       "<tr>\n",
       "  <th>distributor[T.STX Entertainment]</th>       <td>   23.5514</td> <td>   24.779</td> <td>    0.950</td> <td> 0.342</td> <td>  -25.150    72.253</td>\n",
       "</tr>\n",
       "<tr>\n",
       "  <th>distributor[T.Samuel Goldwyn]</th>          <td>   24.5725</td> <td>   23.791</td> <td>    1.033</td> <td> 0.302</td> <td>  -22.186    71.331</td>\n",
       "</tr>\n",
       "<tr>\n",
       "  <th>distributor[T.Sony / Columbia]</th>         <td>   17.3730</td> <td>   20.484</td> <td>    0.848</td> <td> 0.397</td> <td>  -22.887    57.633</td>\n",
       "</tr>\n",
       "<tr>\n",
       "  <th>distributor[T.Sony / Screen Gems]</th>      <td>   36.9919</td> <td>   20.938</td> <td>    1.767</td> <td> 0.078</td> <td>   -4.160    78.144</td>\n",
       "</tr>\n",
       "<tr>\n",
       "  <th>distributor[T.Sony Classics]</th>           <td>   -7.5675</td> <td>   21.888</td> <td>   -0.346</td> <td> 0.730</td> <td>  -50.587    35.451</td>\n",
       "</tr>\n",
       "<tr>\n",
       "  <th>distributor[T.Summit Entertainment]</th>    <td>   33.7934</td> <td>   21.802</td> <td>    1.550</td> <td> 0.122</td> <td>   -9.057    76.644</td>\n",
       "</tr>\n",
       "<tr>\n",
       "  <th>distributor[T.TriStar]</th>                 <td>   24.3341</td> <td>   20.891</td> <td>    1.165</td> <td> 0.245</td> <td>  -16.726    65.394</td>\n",
       "</tr>\n",
       "<tr>\n",
       "  <th>distributor[T.Universal]</th>               <td>   31.7607</td> <td>   20.445</td> <td>    1.553</td> <td> 0.121</td> <td>   -8.422    71.944</td>\n",
       "</tr>\n",
       "<tr>\n",
       "  <th>distributor[T.Warner Bros.]</th>            <td>   22.2738</td> <td>   20.425</td> <td>    1.091</td> <td> 0.276</td> <td>  -17.869    62.417</td>\n",
       "</tr>\n",
       "<tr>\n",
       "  <th>distributor[T.Warner Bros. (New Line)]</th> <td>   22.3457</td> <td>   20.895</td> <td>    1.069</td> <td> 0.285</td> <td>  -18.722    63.413</td>\n",
       "</tr>\n",
       "<tr>\n",
       "  <th>distributor[T.Weinstein / Dimension]</th>   <td>   20.6797</td> <td>   22.015</td> <td>    0.939</td> <td> 0.348</td> <td>  -22.589    63.948</td>\n",
       "</tr>\n",
       "<tr>\n",
       "  <th>distributor[T.Weinstein Company]</th>       <td>   17.8350</td> <td>   21.093</td> <td>    0.846</td> <td> 0.398</td> <td>  -23.621    59.291</td>\n",
       "</tr>\n",
       "<tr>\n",
       "  <th>distributor[T.Well Go USA]</th>             <td>   20.0829</td> <td>   28.406</td> <td>    0.707</td> <td> 0.480</td> <td>  -35.747    75.913</td>\n",
       "</tr>\n",
       "<tr>\n",
       "  <th>budget</th>                                 <td>    0.3006</td> <td>    0.026</td> <td>   11.532</td> <td> 0.000</td> <td>    0.249     0.352</td>\n",
       "</tr>\n",
       "<tr>\n",
       "  <th>in_release_days</th>                        <td>    0.3240</td> <td>    0.033</td> <td>    9.836</td> <td> 0.000</td> <td>    0.259     0.389</td>\n",
       "</tr>\n",
       "<tr>\n",
       "  <th>week_genre_density_count</th>               <td>   -0.9161</td> <td>    1.450</td> <td>   -0.632</td> <td> 0.528</td> <td>   -3.766     1.933</td>\n",
       "</tr>\n",
       "<tr>\n",
       "  <th>month_genre_density_count</th>              <td>   -2.2978</td> <td>    0.813</td> <td>   -2.826</td> <td> 0.005</td> <td>   -3.896    -0.700</td>\n",
       "</tr>\n",
       "<tr>\n",
       "  <th>week_budget_density_count</th>              <td>   -1.1662</td> <td>    1.231</td> <td>   -0.947</td> <td> 0.344</td> <td>   -3.587     1.254</td>\n",
       "</tr>\n",
       "<tr>\n",
       "  <th>month_budget_density_count</th>             <td>    0.6449</td> <td>    0.556</td> <td>    1.161</td> <td> 0.246</td> <td>   -0.447     1.737</td>\n",
       "</tr>\n",
       "</table>\n",
       "<table class=\"simpletable\">\n",
       "<tr>\n",
       "  <th>Omnibus:</th>       <td>272.366</td> <th>  Durbin-Watson:     </th> <td>   1.351</td>\n",
       "</tr>\n",
       "<tr>\n",
       "  <th>Prob(Omnibus):</th> <td> 0.000</td>  <th>  Jarque-Bera (JB):  </th> <td>3383.531</td>\n",
       "</tr>\n",
       "<tr>\n",
       "  <th>Skew:</th>          <td> 2.088</td>  <th>  Prob(JB):          </th> <td>    0.00</td>\n",
       "</tr>\n",
       "<tr>\n",
       "  <th>Kurtosis:</th>      <td>15.041</td>  <th>  Cond. No.          </th> <td>2.52e+17</td>\n",
       "</tr>\n",
       "</table>"
      ],
      "text/plain": [
       "<class 'statsmodels.iolib.summary.Summary'>\n",
       "\"\"\"\n",
       "                            OLS Regression Results                            \n",
       "==============================================================================\n",
       "Dep. Variable:          weekend_gross   R-squared:                       0.635\n",
       "Model:                            OLS   Adj. R-squared:                  0.582\n",
       "Method:                 Least Squares   F-statistic:                     12.03\n",
       "Date:                Sun, 24 Apr 2016   Prob (F-statistic):           5.42e-63\n",
       "Time:                        12:17:43   Log-Likelihood:                -2165.1\n",
       "No. Observations:                 500   AIC:                             4458.\n",
       "Df Residuals:                     436   BIC:                             4728.\n",
       "Df Model:                          63                                         \n",
       "Covariance Type:            nonrobust                                         \n",
       "==========================================================================================================\n",
       "                                             coef    std err          t      P>|t|      [95.0% Conf. Int.]\n",
       "----------------------------------------------------------------------------------------------------------\n",
       "Intercept                                -27.5987     20.938     -1.318      0.188       -68.750    13.553\n",
       "genre[T.Adventure]                       -34.9940      8.942     -3.913      0.000       -52.569   -17.419\n",
       "genre[T.Animation]                       -26.2062      4.597     -5.700      0.000       -35.242   -17.171\n",
       "genre[T.Comedy]                           -2.2851      3.352     -0.682      0.496        -8.874     4.303\n",
       "genre[T.Concert]                           5.4643     14.829      0.368      0.713       -23.681    34.609\n",
       "genre[T.Crime]                           -15.5775      7.102     -2.193      0.029       -29.537    -1.618\n",
       "genre[T.Documentary]                      -4.2775     12.291     -0.348      0.728       -28.435    19.880\n",
       "genre[T.Drama]                           -12.6019      4.153     -3.035      0.003       -20.764    -4.440\n",
       "genre[T.Family]                          -30.7411      6.732     -4.567      0.000       -43.972   -17.511\n",
       "genre[T.Fantasy]                         -28.9395      6.586     -4.394      0.000       -41.884   -15.994\n",
       "genre[T.Foreign]                         -17.7383     13.025     -1.362      0.174       -43.337     7.860\n",
       "genre[T.Historical]                      -20.2450     16.843     -1.202      0.230       -53.349    12.859\n",
       "genre[T.Horror]                           -1.6847      4.657     -0.362      0.718       -10.838     7.469\n",
       "genre[T.Music]                            -3.8098     14.842     -0.257      0.798       -32.980    25.361\n",
       "genre[T.Musical]                         -15.6750      7.987     -1.963      0.050       -31.373     0.023\n",
       "genre[T.Period]                          -18.4432     10.749     -1.716      0.087       -39.570     2.684\n",
       "genre[T.Romance]                          19.0683      7.556      2.524      0.012         4.218    33.918\n",
       "genre[T.Romantic]                        -16.0784      7.528     -2.136      0.033       -30.873    -1.284\n",
       "genre[T.Sci-Fi]                          -14.2201      3.978     -3.574      0.000       -22.039    -6.401\n",
       "genre[T.Sports]                          -18.3245      8.954     -2.046      0.041       -35.924    -0.725\n",
       "genre[T.Thriller]                         -6.9293      4.764     -1.454      0.147       -16.294     2.435\n",
       "genre[T.War]                             -17.2917     12.011     -1.440      0.151       -40.897     6.314\n",
       "genre[T.Western]                         -48.7126     14.795     -3.292      0.001       -77.791   -19.634\n",
       "distributor[T.Anchor Bay Films]           23.2146     28.513      0.814      0.416       -32.824    79.254\n",
       "distributor[T.Bleecker Street]         -1.737e-13    1.9e-13     -0.916      0.360     -5.46e-13  1.99e-13\n",
       "distributor[T.Broad Green Pictures]    -7.617e-16   2.28e-14     -0.033      0.973     -4.55e-14   4.4e-14\n",
       "distributor[T.Buena Vista]                27.7927     20.549      1.352      0.177       -12.595    68.181\n",
       "distributor[T.CBS Films]                  27.0147     21.564      1.253      0.211       -15.368    69.398\n",
       "distributor[T.Clarius Entertainment]   -3.212e-15   2.72e-14     -0.118      0.906     -5.67e-14  5.03e-14\n",
       "distributor[T.FilmDistrict]               19.0080     21.232      0.895      0.371       -22.721    60.737\n",
       "distributor[T.Focus Features]             22.4713     20.933      1.073      0.284       -18.671    63.614\n",
       "distributor[T.Fox]                        12.5703     20.323      0.619      0.537       -27.374    52.514\n",
       "distributor[T.Fox Searchlight]            16.3732     22.332      0.733      0.464       -27.519    60.266\n",
       "distributor[T.Freestyle Releasing]        18.5227     24.656      0.751      0.453       -29.936    66.981\n",
       "distributor[T.High Top Releasing]         30.0498     28.621      1.050      0.294       -26.202    86.302\n",
       "distributor[T.IFC]                     -3.858e-15   1.21e-14     -0.319      0.750     -2.76e-14  1.99e-14\n",
       "distributor[T.Kenn Viselman Presents]     46.6353     29.195      1.597      0.111       -10.744   104.015\n",
       "distributor[T.Lionsgate]                  33.3437     20.684      1.612      0.108        -7.309    73.996\n",
       "distributor[T.Lionsgate/Summit]           22.3030     20.921      1.066      0.287       -18.815    63.421\n",
       "distributor[T.Newmarket]                  28.1277     28.584      0.984      0.326       -28.052    84.308\n",
       "distributor[T.Open Road Films]            27.4449     20.891      1.314      0.190       -13.615    68.505\n",
       "distributor[T.Oscilloscope Pictures]      31.6453     31.600      1.001      0.317       -30.461    93.752\n",
       "distributor[T.Paramount]                  25.6091     20.506      1.249      0.212       -14.695    65.913\n",
       "distributor[T.Paramount (DreamWorks)]     21.3580     22.014      0.970      0.332       -21.908    64.624\n",
       "distributor[T.Picturehouse (II)]          40.2826     28.615      1.408      0.160       -15.958    96.524\n",
       "distributor[T.Quaker Media]               36.6347     29.474      1.243      0.215       -21.295    94.564\n",
       "distributor[T.Relativity]                 15.8611     20.621      0.769      0.442       -24.668    56.391\n",
       "distributor[T.Roadside Attractions]        1.3885     23.778      0.058      0.953       -45.344    48.121\n",
       "distributor[T.Rocky Mountain Pictures]    32.0471     28.645      1.119      0.264       -24.252    88.346\n",
       "distributor[T.STX Entertainment]          23.5514     24.779      0.950      0.342       -25.150    72.253\n",
       "distributor[T.Samuel Goldwyn]             24.5725     23.791      1.033      0.302       -22.186    71.331\n",
       "distributor[T.Sony / Columbia]            17.3730     20.484      0.848      0.397       -22.887    57.633\n",
       "distributor[T.Sony / Screen Gems]         36.9919     20.938      1.767      0.078        -4.160    78.144\n",
       "distributor[T.Sony Classics]              -7.5675     21.888     -0.346      0.730       -50.587    35.451\n",
       "distributor[T.Summit Entertainment]       33.7934     21.802      1.550      0.122        -9.057    76.644\n",
       "distributor[T.TriStar]                    24.3341     20.891      1.165      0.245       -16.726    65.394\n",
       "distributor[T.Universal]                  31.7607     20.445      1.553      0.121        -8.422    71.944\n",
       "distributor[T.Warner Bros.]               22.2738     20.425      1.091      0.276       -17.869    62.417\n",
       "distributor[T.Warner Bros. (New Line)]    22.3457     20.895      1.069      0.285       -18.722    63.413\n",
       "distributor[T.Weinstein / Dimension]      20.6797     22.015      0.939      0.348       -22.589    63.948\n",
       "distributor[T.Weinstein Company]          17.8350     21.093      0.846      0.398       -23.621    59.291\n",
       "distributor[T.Well Go USA]                20.0829     28.406      0.707      0.480       -35.747    75.913\n",
       "budget                                     0.3006      0.026     11.532      0.000         0.249     0.352\n",
       "in_release_days                            0.3240      0.033      9.836      0.000         0.259     0.389\n",
       "week_genre_density_count                  -0.9161      1.450     -0.632      0.528        -3.766     1.933\n",
       "month_genre_density_count                 -2.2978      0.813     -2.826      0.005        -3.896    -0.700\n",
       "week_budget_density_count                 -1.1662      1.231     -0.947      0.344        -3.587     1.254\n",
       "month_budget_density_count                 0.6449      0.556      1.161      0.246        -0.447     1.737\n",
       "==============================================================================\n",
       "Omnibus:                      272.366   Durbin-Watson:                   1.351\n",
       "Prob(Omnibus):                  0.000   Jarque-Bera (JB):             3383.531\n",
       "Skew:                           2.088   Prob(JB):                         0.00\n",
       "Kurtosis:                      15.041   Cond. No.                     2.52e+17\n",
       "==============================================================================\n",
       "\n",
       "Warnings:\n",
       "[1] Standard Errors assume that the covariance matrix of the errors is correctly specified.\n",
       "[2] The smallest eigenvalue is 1.2e-28. This might indicate that there are\n",
       "strong multicollinearity problems or that the design matrix is singular.\n",
       "\"\"\""
      ]
     },
     "execution_count": 9,
     "metadata": {},
     "output_type": "execute_result"
    }
   ],
   "source": [
    "lm2 = smf.ols('weekend_gross ~ budget + genre + distributor + in_release_days + week_genre_density_count + month_genre_density_count + week_budget_density_count + month_budget_density_count',data=DF3)\n",
    "fit2 = lm2.fit()\n",
    "fit2.summary()"
   ]
  },
  {
   "cell_type": "code",
   "execution_count": 11,
   "metadata": {
    "collapsed": false
   },
   "outputs": [
    {
     "ename": "ImportError",
     "evalue": "No module named 'pandoc'",
     "output_type": "error",
     "traceback": [
      "\u001b[1;31m---------------------------------------------------------------------------\u001b[0m",
      "\u001b[1;31mImportError\u001b[0m                               Traceback (most recent call last)",
      "\u001b[1;32m<ipython-input-11-6bf4f957f9b9>\u001b[0m in \u001b[0;36m<module>\u001b[1;34m()\u001b[0m\n\u001b[1;32m----> 1\u001b[1;33m \u001b[1;32mimport\u001b[0m \u001b[0mpandoc\u001b[0m\u001b[1;33m\u001b[0m\u001b[0m\n\u001b[0m",
      "\u001b[1;31mImportError\u001b[0m: No module named 'pandoc'"
     ]
    }
   ],
   "source": []
  },
  {
   "cell_type": "code",
   "execution_count": null,
   "metadata": {
    "collapsed": true
   },
   "outputs": [],
   "source": []
  }
 ],
 "metadata": {
  "kernelspec": {
   "display_name": "Python 3",
   "language": "python",
   "name": "python3"
  },
  "language_info": {
   "codemirror_mode": {
    "name": "ipython",
    "version": 3
   },
   "file_extension": ".py",
   "mimetype": "text/x-python",
   "name": "python",
   "nbconvert_exporter": "python",
   "pygments_lexer": "ipython3",
   "version": "3.5.1"
  }
 },
 "nbformat": 4,
 "nbformat_minor": 0
}
